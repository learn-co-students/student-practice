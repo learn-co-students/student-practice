{
 "cells": [
  {
   "cell_type": "code",
   "execution_count": 1,
   "metadata": {
    "ExecuteTime": {
     "end_time": "2021-02-12T15:53:45.249006Z",
     "start_time": "2021-02-12T15:53:44.504633Z"
    }
   },
   "outputs": [],
   "source": [
    "import requests\n",
    "import pandas as pd"
   ]
  },
  {
   "cell_type": "code",
   "execution_count": 4,
   "metadata": {
    "ExecuteTime": {
     "end_time": "2021-02-12T15:54:25.544103Z",
     "start_time": "2021-02-12T15:54:25.456119Z"
    }
   },
   "outputs": [],
   "source": [
    "response = requests.get('https://gist.githubusercontent.com/joelsewhere/88bfea9ad43d25160585b0fb1af5a34f/raw/c29be7a890ce60ee6fd3f9d6dc208e5088f174d7/us_senate_2020.json')\n",
    "df = pd.DataFrame(response.json())"
   ]
  },
  {
   "cell_type": "code",
   "execution_count": 6,
   "metadata": {
    "ExecuteTime": {
     "end_time": "2021-02-12T15:54:35.796638Z",
     "start_time": "2021-02-12T15:54:35.781348Z"
    }
   },
   "outputs": [
    {
     "data": {
      "text/html": [
       "<div>\n",
       "<style scoped>\n",
       "    .dataframe tbody tr th:only-of-type {\n",
       "        vertical-align: middle;\n",
       "    }\n",
       "\n",
       "    .dataframe tbody tr th {\n",
       "        vertical-align: top;\n",
       "    }\n",
       "\n",
       "    .dataframe thead th {\n",
       "        text-align: right;\n",
       "    }\n",
       "</style>\n",
       "<table border=\"1\" class=\"dataframe\">\n",
       "  <thead>\n",
       "    <tr style=\"text-align: right;\">\n",
       "      <th></th>\n",
       "      <th>Image</th>\n",
       "      <th>Senator</th>\n",
       "      <th>Party</th>\n",
       "      <th>Born</th>\n",
       "      <th>Occupation(s)</th>\n",
       "      <th>Previous\\noffice(s)</th>\n",
       "      <th>Assumed office</th>\n",
       "      <th>Term up</th>\n",
       "      <th>Residence</th>\n",
       "      <th>state</th>\n",
       "    </tr>\n",
       "  </thead>\n",
       "  <tbody>\n",
       "    <tr>\n",
       "      <th>0</th>\n",
       "      <td>https://en.wikipedia.org/wiki/File:Richard_She...</td>\n",
       "      <td>Richard Shelby</td>\n",
       "      <td>Republican</td>\n",
       "      <td>May 6, 1934 (age 85)</td>\n",
       "      <td>Lawyer</td>\n",
       "      <td>U.S. House\\nAlabama Senate</td>\n",
       "      <td>January 3, 1987</td>\n",
       "      <td>2022</td>\n",
       "      <td>Tuscaloosa[1]</td>\n",
       "      <td>Alabama</td>\n",
       "    </tr>\n",
       "    <tr>\n",
       "      <th>1</th>\n",
       "      <td>https://en.wikipedia.org/wiki/File:Senator_Dou...</td>\n",
       "      <td>Doug Jones[d]</td>\n",
       "      <td>Democratic</td>\n",
       "      <td>May 4, 1954 (age 65)</td>\n",
       "      <td>Lawyer</td>\n",
       "      <td>Staff counsel, U.S. Senate Judiciary Committee...</td>\n",
       "      <td>January 3, 2018</td>\n",
       "      <td>2020</td>\n",
       "      <td>Birmingham[1]</td>\n",
       "      <td>Alabama</td>\n",
       "    </tr>\n",
       "    <tr>\n",
       "      <th>2</th>\n",
       "      <td>https://en.wikipedia.org/wiki/File:Lisa_Murkow...</td>\n",
       "      <td>Lisa Murkowski</td>\n",
       "      <td>Republican</td>\n",
       "      <td>May 22, 1957 (age 62)</td>\n",
       "      <td>Lawyer</td>\n",
       "      <td>Alaska House of Representatives</td>\n",
       "      <td>December 20, 2002</td>\n",
       "      <td>2022</td>\n",
       "      <td>Anchorage[3]</td>\n",
       "      <td>Alaska</td>\n",
       "    </tr>\n",
       "    <tr>\n",
       "      <th>3</th>\n",
       "      <td>https://en.wikipedia.org/wiki/File:Senator_Dan...</td>\n",
       "      <td>Dan Sullivan</td>\n",
       "      <td>Republican</td>\n",
       "      <td>November 13, 1964 (age 55)</td>\n",
       "      <td>U.S. Marine Corps officer\\nLawyer</td>\n",
       "      <td>Alaska Attorney General\\nAssistant Secretary o...</td>\n",
       "      <td>January 3, 2015</td>\n",
       "      <td>2020</td>\n",
       "      <td>Anchorage[3]</td>\n",
       "      <td>Alaska</td>\n",
       "    </tr>\n",
       "    <tr>\n",
       "      <th>4</th>\n",
       "      <td>https://en.wikipedia.org/wiki/File:Kyrsten_Sin...</td>\n",
       "      <td>Kyrsten Sinema</td>\n",
       "      <td>Democratic</td>\n",
       "      <td>July 12, 1976 (age 43)</td>\n",
       "      <td>Social Worker\\nPolitical Activist</td>\n",
       "      <td>U.S. House\\nArizona Senate\\nArizona House of R...</td>\n",
       "      <td>January 3, 2019</td>\n",
       "      <td>2024</td>\n",
       "      <td>Phoenix[4]</td>\n",
       "      <td>Arizona</td>\n",
       "    </tr>\n",
       "  </tbody>\n",
       "</table>\n",
       "</div>"
      ],
      "text/plain": [
       "                                               Image         Senator  \\\n",
       "0  https://en.wikipedia.org/wiki/File:Richard_She...  Richard Shelby   \n",
       "1  https://en.wikipedia.org/wiki/File:Senator_Dou...   Doug Jones[d]   \n",
       "2  https://en.wikipedia.org/wiki/File:Lisa_Murkow...  Lisa Murkowski   \n",
       "3  https://en.wikipedia.org/wiki/File:Senator_Dan...    Dan Sullivan   \n",
       "4  https://en.wikipedia.org/wiki/File:Kyrsten_Sin...  Kyrsten Sinema   \n",
       "\n",
       "        Party                        Born                      Occupation(s)  \\\n",
       "0  Republican        May 6, 1934 (age 85)                             Lawyer   \n",
       "1  Democratic        May 4, 1954 (age 65)                             Lawyer   \n",
       "2  Republican       May 22, 1957 (age 62)                             Lawyer   \n",
       "3  Republican  November 13, 1964 (age 55)  U.S. Marine Corps officer\\nLawyer   \n",
       "4  Democratic      July 12, 1976 (age 43)  Social Worker\\nPolitical Activist   \n",
       "\n",
       "                                 Previous\\noffice(s)     Assumed office  \\\n",
       "0                         U.S. House\\nAlabama Senate    January 3, 1987   \n",
       "1  Staff counsel, U.S. Senate Judiciary Committee...    January 3, 2018   \n",
       "2                    Alaska House of Representatives  December 20, 2002   \n",
       "3  Alaska Attorney General\\nAssistant Secretary o...    January 3, 2015   \n",
       "4  U.S. House\\nArizona Senate\\nArizona House of R...    January 3, 2019   \n",
       "\n",
       "  Term up      Residence    state  \n",
       "0    2022  Tuscaloosa[1]  Alabama  \n",
       "1    2020  Birmingham[1]  Alabama  \n",
       "2    2022   Anchorage[3]   Alaska  \n",
       "3    2020   Anchorage[3]   Alaska  \n",
       "4    2024     Phoenix[4]  Arizona  "
      ]
     },
     "execution_count": 6,
     "metadata": {},
     "output_type": "execute_result"
    }
   ],
   "source": [
    "df.head()"
   ]
  },
  {
   "cell_type": "code",
   "execution_count": null,
   "metadata": {},
   "outputs": [],
   "source": []
  }
 ],
 "metadata": {
  "kernelspec": {
   "display_name": "Python 3",
   "language": "python",
   "name": "python3"
  },
  "language_info": {
   "codemirror_mode": {
    "name": "ipython",
    "version": 3
   },
   "file_extension": ".py",
   "mimetype": "text/x-python",
   "name": "python",
   "nbconvert_exporter": "python",
   "pygments_lexer": "ipython3",
   "version": "3.7.4"
  },
  "toc": {
   "base_numbering": 1,
   "nav_menu": {},
   "number_sections": true,
   "sideBar": true,
   "skip_h1_title": false,
   "title_cell": "Table of Contents",
   "title_sidebar": "Contents",
   "toc_cell": false,
   "toc_position": {},
   "toc_section_display": true,
   "toc_window_display": false
  }
 },
 "nbformat": 4,
 "nbformat_minor": 2
}
